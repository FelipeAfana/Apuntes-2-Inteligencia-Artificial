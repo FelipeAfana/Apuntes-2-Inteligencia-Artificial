{
  "nbformat": 4,
  "nbformat_minor": 0,
  "metadata": {
    "colab": {
      "provenance": [],
      "authorship_tag": "ABX9TyO1bKqDBfyC7U+MAIzUsZz3",
      "include_colab_link": true
    },
    "kernelspec": {
      "name": "python3",
      "display_name": "Python 3"
    },
    "language_info": {
      "name": "python"
    }
  },
  "cells": [
    {
      "cell_type": "markdown",
      "metadata": {
        "id": "view-in-github",
        "colab_type": "text"
      },
      "source": [
        "<a href=\"https://colab.research.google.com/github/FelipeAfana/Apuntes-2-Inteligencia-Artificial/blob/main/Apuntes_EDA.ipynb\" target=\"_parent\"><img src=\"https://colab.research.google.com/assets/colab-badge.svg\" alt=\"Open In Colab\"/></a>"
      ]
    },
    {
      "cell_type": "code",
      "execution_count": null,
      "metadata": {
        "id": "gkD2ucSGKgOy"
      },
      "outputs": [],
      "source": []
    },
    {
      "cell_type": "markdown",
      "source": [
        "#Variables en python\n",
        "Las varibles categoricas o text se guardan en tipo objetc.\n",
        "Las numericas se guardan tipo int o float (8,16,32,64)\n"
      ],
      "metadata": {
        "id": "xi7qPrlnKoYb"
      }
    },
    {
      "cell_type": "markdown",
      "source": [
        "#Cargar los datos\n",
        "##Cargar un dataframe\n",
        "###Crear dataset usando numpy\n",
        "* tabulacion\n",
        "* Lista"
      ],
      "metadata": {
        "id": "WOFfo6L6LBPL"
      }
    },
    {
      "cell_type": "code",
      "source": [
        "import pandas as pd\n",
        "import numpy as np\n",
        "\n",
        "# Crear un dataset simulado\n",
        "np.random.seed(42)\n",
        "data = {\n",
        "    \"Estudiante\": [f\"E{i}\" for i in range(1, 21)],\n",
        "    \"Edad\": np.random.randint(18, 25, size=20),\n",
        "    \"Género\": np.random.choice([\"Femenino\", \"Masculino\"], size=20),\n",
        "    \"Nota_Matemáticas\": np.random.normal(70, 10, size=20).round(1),\n",
        "    \"Nota_Ciencias\": np.random.normal(75, 12, size=20).round(1),\n",
        "    \"Nota_Inglés\": np.random.normal(65, 15, size=20).round(1),\n",
        "}"
      ],
      "metadata": {
        "id": "65Jap70eLdcs"
      },
      "execution_count": null,
      "outputs": []
    }
  ]
}